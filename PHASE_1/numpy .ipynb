{
 "cells": [
  {
   "cell_type": "code",
   "execution_count": 1,
   "id": "813a1514-5d5e-4357-b3e6-cbd5b146ed1b",
   "metadata": {},
   "outputs": [
    {
     "name": "stdout",
     "output_type": "stream",
     "text": [
      "2.3.3\n"
     ]
    }
   ],
   "source": [
    "import numpy as np\n",
    "print(np.__version__)"
   ]
  },
  {
   "cell_type": "code",
   "execution_count": 3,
   "id": "3b680834-ea39-4912-9196-5931821beab9",
   "metadata": {},
   "outputs": [
    {
     "name": "stdout",
     "output_type": "stream",
     "text": [
      "[1, 2, 3, 4]\n"
     ]
    }
   ],
   "source": [
    "python_list=[1,2,3,4]\n",
    "print(python_list)"
   ]
  },
  {
   "cell_type": "code",
   "execution_count": 4,
   "id": "037df22b-510c-444a-8067-d7642ed59752",
   "metadata": {},
   "outputs": [
    {
     "name": "stdout",
     "output_type": "stream",
     "text": [
      "[1 2 3 4 5]\n"
     ]
    }
   ],
   "source": [
    "array=np.array([1,2,3,4,5])\n",
    "print(array)"
   ]
  },
  {
   "cell_type": "code",
   "execution_count": 5,
   "id": "0b30de04-058b-4837-bc43-b4e4d4d42227",
   "metadata": {},
   "outputs": [
    {
     "name": "stdout",
     "output_type": "stream",
     "text": [
      "[0. 0. 0.]\n"
     ]
    }
   ],
   "source": [
    "arr=np.zeros(3)\n",
    "print(arr)"
   ]
  },
  {
   "cell_type": "code",
   "execution_count": 6,
   "id": "fd21b498-75d5-4c85-afdf-46cda5ffaa03",
   "metadata": {},
   "outputs": [
    {
     "name": "stdout",
     "output_type": "stream",
     "text": [
      "[1. 1. 1.]\n"
     ]
    }
   ],
   "source": [
    "arr=np.ones(3)\n",
    "print(arr)"
   ]
  },
  {
   "cell_type": "code",
   "execution_count": 7,
   "id": "64117f19-e6eb-4d7d-acd1-2c52dc3146b1",
   "metadata": {},
   "outputs": [
    {
     "name": "stdout",
     "output_type": "stream",
     "text": [
      "[[7 7]\n",
      " [7 7]]\n"
     ]
    }
   ],
   "source": [
    "arr=np.full((2,2),7)\n",
    "print(arr)"
   ]
  },
  {
   "cell_type": "code",
   "execution_count": 9,
   "id": "1db433f8-7da6-4a2b-abf8-0366370a303e",
   "metadata": {},
   "outputs": [
    {
     "name": "stdout",
     "output_type": "stream",
     "text": [
      "[1 3 5 7 9]\n"
     ]
    }
   ],
   "source": [
    "arr=np.arange(1,10,2) #start stop step\n",
    "print(arr)"
   ]
  },
  {
   "cell_type": "code",
   "execution_count": 10,
   "id": "e6d4512c-8adf-4034-8f05-51d000f03826",
   "metadata": {},
   "outputs": [
    {
     "name": "stdout",
     "output_type": "stream",
     "text": [
      "[[1. 0. 0. 0.]\n",
      " [0. 1. 0. 0.]\n",
      " [0. 0. 1. 0.]\n",
      " [0. 0. 0. 1.]]\n"
     ]
    }
   ],
   "source": [
    "arr=np.eye(4)\n",
    "print(arr)"
   ]
  },
  {
   "cell_type": "code",
   "execution_count": 11,
   "id": "8da2147e-c228-4aa2-9d4b-707ab0ba81c7",
   "metadata": {},
   "outputs": [
    {
     "name": "stdout",
     "output_type": "stream",
     "text": [
      "(2, 3)\n"
     ]
    }
   ],
   "source": [
    "arr=np.array([\n",
    "    [1,2,3],\n",
    "    [4,5,6]\n",
    "])\n",
    "print(arr.shape)"
   ]
  },
  {
   "cell_type": "code",
   "execution_count": 16,
   "id": "b212c804-efdc-45cb-a98c-fb0cc5e6a078",
   "metadata": {},
   "outputs": [
    {
     "name": "stdout",
     "output_type": "stream",
     "text": [
      "(2, 3)\n",
      "6\n",
      "2\n",
      "int64\n"
     ]
    }
   ],
   "source": [
    "arr=np.array([[1,2,3],\n",
    "              [4,5,6]])\n",
    "print(arr.shape)\n",
    "print(arr.size)\n",
    "print(arr.ndim)\n",
    "print(arr.dtype)"
   ]
  },
  {
   "cell_type": "code",
   "execution_count": 18,
   "id": "cc62be05-8636-489a-83fc-9414d6d5f362",
   "metadata": {},
   "outputs": [
    {
     "name": "stdout",
     "output_type": "stream",
     "text": [
      "float64\n",
      "[1 2 3]\n",
      "int64\n"
     ]
    }
   ],
   "source": [
    "arr=np.array([1.2,2.5,3.6])\n",
    "print(arr.dtype)\n",
    "arr_int=arr.astype(int)\n",
    "print(arr_int)\n",
    "print(arr_int.dtype)"
   ]
  },
  {
   "cell_type": "code",
   "execution_count": 31,
   "id": "1bfb122a-843f-4678-acf6-016d95beb5cc",
   "metadata": {},
   "outputs": [
    {
     "name": "stdout",
     "output_type": "stream",
     "text": [
      "10\n",
      "4\n",
      "1\n",
      "1.118033988749895\n",
      "2.5\n",
      "1.25\n"
     ]
    }
   ],
   "source": [
    "arr=np.array([1,2,3,4])\n",
    "print(arr.sum())\n",
    "print(arr.max())\n",
    "print(arr.min())\n",
    "print(arr.std())\n",
    "print(arr.mean())\n",
    "print(arr.var())"
   ]
  },
  {
   "cell_type": "code",
   "execution_count": 34,
   "id": "31b705ea-b5ce-479b-897e-460583bf028e",
   "metadata": {},
   "outputs": [
    {
     "name": "stdout",
     "output_type": "stream",
     "text": [
      "[10 30]\n",
      "[30 40 50]\n"
     ]
    }
   ],
   "source": [
    "arr=np.array([10,20,30,40,50])\n",
    "print(arr[[0,2]])#fancy indexing\n",
    "print(arr[arr>25])#boolian masking"
   ]
  },
  {
   "cell_type": "code",
   "execution_count": 36,
   "id": "e4720838-40c9-4461-b85c-4ec44b2743ad",
   "metadata": {},
   "outputs": [
    {
     "name": "stdout",
     "output_type": "stream",
     "text": [
      "[[1 2 3]\n",
      " [4 5 6]]\n"
     ]
    }
   ],
   "source": [
    "arr=np.array([1,2,3,4,5,6])\n",
    "print(arr.reshape(2,3)) #2 row 3 col if dimension match"
   ]
  },
  {
   "cell_type": "code",
   "execution_count": 38,
   "id": "6d5fb4b2-bf2a-4820-a373-b1b55b8bb79e",
   "metadata": {},
   "outputs": [
    {
     "name": "stdout",
     "output_type": "stream",
     "text": [
      "[1 2 3 4 5 6]\n",
      "[1 2 3 4 5 6]\n"
     ]
    }
   ],
   "source": [
    "#nd to 1d array convert\n",
    "arr=np.array([[1,2,3],\n",
    "             [4,5,6]])\n",
    "print(arr.ravel()) #//view only \n",
    "print(arr.flatten()) #// copy"
   ]
  },
  {
   "cell_type": "code",
   "execution_count": 3,
   "id": "3223a29c-db7f-413d-912e-26733f8553dd",
   "metadata": {},
   "outputs": [
    {
     "name": "stdout",
     "output_type": "stream",
     "text": [
      "[ 10  20 100  30  40]\n"
     ]
    }
   ],
   "source": [
    "arr=np.array([10,20,30,40])\n",
    "new_arr=np.insert(arr,2,100)#2 is position 100 inserted value\n",
    "print(new_arr)"
   ]
  },
  {
   "cell_type": "code",
   "execution_count": 20,
   "id": "f42a0ed5-c234-4cd4-81a7-a6c0b9a70cb5",
   "metadata": {},
   "outputs": [
    {
     "name": "stdout",
     "output_type": "stream",
     "text": [
      "[[  1   2   3]\n",
      " [100 100 100]\n",
      " [  4   5   6]]\n",
      "-------------------\n",
      "\n",
      "[[  1 100   2   3]\n",
      " [  4 100   5   6]]\n"
     ]
    }
   ],
   "source": [
    "arr=np.array([[1,2,3],\n",
    "             [4,5,6]])\n",
    "new_arr1=np.insert(arr,1,[100],axis=0) \n",
    "new_arr2=np.insert(arr,1,[100],axis=1) \n",
    "print(new_arr1)\n",
    "print(\"-------------------\")\n",
    "print()\n",
    "print(new_arr2)"
   ]
  },
  {
   "cell_type": "code",
   "execution_count": 8,
   "id": "0599a924-06a6-4ccf-a4e0-90d9d7631614",
   "metadata": {},
   "outputs": [
    {
     "name": "stdout",
     "output_type": "stream",
     "text": [
      "[10 20 30 40 50 60 70]\n"
     ]
    }
   ],
   "source": [
    "arr=np.array([10,20,30,40])\n",
    "new_arr=np.append(arr,[50,60,70])\n",
    "print(new_arr)"
   ]
  },
  {
   "cell_type": "code",
   "execution_count": 18,
   "id": "df389506-2d73-4bd6-be7d-0a8ec7419ad9",
   "metadata": {},
   "outputs": [
    {
     "name": "stdout",
     "output_type": "stream",
     "text": [
      "[1 2 3 1 2 3]\n"
     ]
    }
   ],
   "source": [
    "arr1=np.array([1,2,3])\n",
    "arr2=np.array([1,2,3])\n",
    "new_arr1=np.concatenate((arr1, arr2), axis=0)\n",
    "print(new_arr1)"
   ]
  },
  {
   "cell_type": "code",
   "execution_count": 22,
   "id": "ff3905dc-c79c-4698-a42e-af427ee1ff59",
   "metadata": {},
   "outputs": [
    {
     "name": "stdout",
     "output_type": "stream",
     "text": [
      "[10 20 30 40]\n",
      "[20 30 40]\n"
     ]
    }
   ],
   "source": [
    "arr=np.array([10,20,30,40]) \n",
    "print(arr)\n",
    "new_arr=np.delete(arr,0)\n",
    "print(new_arr)"
   ]
  },
  {
   "cell_type": "code",
   "execution_count": 24,
   "id": "ad6189be-c99c-46ac-b292-afa26947d185",
   "metadata": {},
   "outputs": [
    {
     "name": "stdout",
     "output_type": "stream",
     "text": [
      "[[1 2 3]\n",
      " [4 5 6]]\n",
      "\n",
      "[[4 5 6]]\n"
     ]
    }
   ],
   "source": [
    "arr=np.array([[1,2,3],\n",
    "             [4,5,6]])\n",
    "print(arr)\n",
    "print()\n",
    "new_arr=np.delete(arr,0,axis=0)\n",
    "print(new_arr)\n"
   ]
  },
  {
   "cell_type": "code",
   "execution_count": 25,
   "id": "f3057315-d321-4d32-8204-8dbabf2ede1f",
   "metadata": {},
   "outputs": [
    {
     "name": "stdout",
     "output_type": "stream",
     "text": [
      "[[1 2 3]\n",
      " [4 5 6]]\n",
      "\n",
      "[[2 3]\n",
      " [5 6]]\n"
     ]
    }
   ],
   "source": [
    "arr=np.array([[1,2,3],\n",
    "             [4,5,6]])\n",
    "print(arr)\n",
    "print()\n",
    "new_arr=np.delete(arr,0,axis=1)\n",
    "print(new_arr)"
   ]
  },
  {
   "cell_type": "code",
   "execution_count": 26,
   "id": "8a45cd47-8be6-46c0-b094-72d3e9799b61",
   "metadata": {},
   "outputs": [
    {
     "name": "stdout",
     "output_type": "stream",
     "text": [
      "[[1 2 3]\n",
      " [4 5 6]]\n",
      "\n",
      "[1 2 3 4 5 6]\n"
     ]
    }
   ],
   "source": [
    "arr1=np.array([1,2,3])\n",
    "arr2=np.array([4,5,6])\n",
    "new_arr1=np.vstack((arr1,arr2))\n",
    "new_arr2=np.hstack((arr1,arr2))\n",
    "print(new_arr1)\n",
    "print()\n",
    "print(new_arr2)"
   ]
  },
  {
   "cell_type": "code",
   "execution_count": 28,
   "id": "28af26ce-f00c-42c6-bee6-77e9855a7e98",
   "metadata": {},
   "outputs": [
    {
     "name": "stdout",
     "output_type": "stream",
     "text": [
      "[array([10, 20]), array([30, 40]), array([50, 60])]\n"
     ]
    }
   ],
   "source": [
    "arr=np.array([10,20,30 ,40,50,60])\n",
    "print(np.split(arr,3))"
   ]
  },
  {
   "cell_type": "code",
   "execution_count": 29,
   "id": "27967c59-a6da-46b7-a790-c3309dd91869",
   "metadata": {},
   "outputs": [
    {
     "name": "stdout",
     "output_type": "stream",
     "text": [
      "[ 90. 180. 270.]\n"
     ]
    }
   ],
   "source": [
    "#brodcasting\n",
    "prices=np.array([100,200,300])\n",
    "discount=10\n",
    "final_prices=prices-(prices*discount/100)\n",
    "print(final_prices)"
   ]
  },
  {
   "cell_type": "code",
   "execution_count": 33,
   "id": "3978aae0-8bd7-4f1e-8327-ae2b6ecfefae",
   "metadata": {},
   "outputs": [
    {
     "name": "stdout",
     "output_type": "stream",
     "text": [
      "[False False False False]\n",
      "[False  True False False]\n",
      "False\n"
     ]
    }
   ],
   "source": [
    "#handling missing values\n",
    "#np.isnan()-> detect missing value\n",
    "#np.nan_to_num()\n",
    "#np.isinf()\n",
    "\n",
    "arr=np.array([1,2,3,4])\n",
    "print(np.isnan(arr))\n",
    "\n",
    "arr=np.array([1,np.nan,3,4])\n",
    "print(np.isnan(arr))\n",
    "\n",
    "print(np.nan==np.nan)#we can not compare it directly"
   ]
  },
  {
   "cell_type": "code",
   "execution_count": 34,
   "id": "d7cb5f0f-07d8-43e0-ab73-5bedefc54b96",
   "metadata": {},
   "outputs": [
    {
     "name": "stdout",
     "output_type": "stream",
     "text": [
      "[  1. 100.   3.   4.]\n"
     ]
    }
   ],
   "source": [
    "#handle missing values\n",
    "arr=np.array([1,np.nan,3,4])\n",
    "new_arr=np.nan_to_num(arr,nan=100)\n",
    "print(new_arr)"
   ]
  },
  {
   "cell_type": "code",
   "execution_count": 37,
   "id": "96b46a06-f0d8-4183-a9d3-3a81f1eb80cf",
   "metadata": {},
   "outputs": [
    {
     "name": "stdout",
     "output_type": "stream",
     "text": [
      "[False  True False False  True False]\n",
      "[   1.  100.    3.    4. -100.    6.]\n"
     ]
    }
   ],
   "source": [
    "arr=np.array([1,np.inf,3,4,-np.inf,6])\n",
    "print(np.isinf(arr))\n",
    "new_arr=np.nan_to_num(arr,posinf=100,neginf=-100)\n",
    "print(new_arr)"
   ]
  }
 ],
 "metadata": {
  "kernelspec": {
   "display_name": "Python 3 (ipykernel)",
   "language": "python",
   "name": "python3"
  },
  "language_info": {
   "codemirror_mode": {
    "name": "ipython",
    "version": 3
   },
   "file_extension": ".py",
   "mimetype": "text/x-python",
   "name": "python",
   "nbconvert_exporter": "python",
   "pygments_lexer": "ipython3",
   "version": "3.13.5"
  }
 },
 "nbformat": 4,
 "nbformat_minor": 5
}
